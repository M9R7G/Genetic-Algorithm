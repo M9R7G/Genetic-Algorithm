{
 "cells": [
  {
   "cell_type": "markdown",
   "id": "a82b7e95",
   "metadata": {},
   "source": [
    "## Description"
   ]
  },
  {
   "cell_type": "markdown",
   "id": "a4303559",
   "metadata": {},
   "source": [
    "In this notebook genetic algorithms are used in orer to resolve the Knapsack problem. Say, we have a knapsack that can hold 15kg of weight at max. We have 4 items A, B, C, and D; having weights of 7kg, 2kg, 1kg, and 9kg; and value 5, 4, 7, and 2 respectively."
   ]
  },
  {
   "cell_type": "markdown",
   "id": "b512e3c2",
   "metadata": {},
   "source": [
    "The goal of the problem is to maximize the value of the knapsack, while meeting the max weight restriction."
   ]
  },
  {
   "cell_type": "code",
   "execution_count": 36,
   "id": "c081b61b",
   "metadata": {},
   "outputs": [],
   "source": [
    "import random\n",
    "import numpy as np"
   ]
  },
  {
   "cell_type": "markdown",
   "id": "9cb21280",
   "metadata": {},
   "source": [
    "## Initialization"
   ]
  },
  {
   "cell_type": "code",
   "execution_count": 48,
   "id": "b660ea3f",
   "metadata": {},
   "outputs": [],
   "source": [
    "max_weight = 15\n",
    "weights = [7,2,1,9]\n",
    "values = [5,4,7,2]"
   ]
  },
  {
   "cell_type": "code",
   "execution_count": 20,
   "id": "e4d808ef",
   "metadata": {},
   "outputs": [],
   "source": [
    "def RandomInitialization():\n",
    "    \n",
    "    max_weight = int(input('Enter max weight:'))\n",
    "    item_number = int(input('Enter number of items:'))\n",
    "    \n",
    "    weights = [random.randint(1,10) for i in range(item_number)]\n",
    "    values = [random.randint(1,10) for i in range(item_number)]\n",
    "    \n",
    "    print(f\"Max weight: {max_weight}\")\n",
    "    print(f\"Weights: {weights}\")\n",
    "    print(f\"Values: {values}\")\n",
    "    return weights, values, max_weight\n",
    "\n",
    "def UserRandomInitialization():\n",
    "    \n",
    "    max_weight = int(input('Enter max weight:'))\n",
    "    item_number = int(input('Enter number of items:'))\n",
    "    max_weight_gap = int(input('Enter max gap of items weights:'))\n",
    "    min_weight_gap = int(input('Enter min gap of items weights:'))\n",
    "    max_value_gap = int(input('Enter max gap of items values:'))\n",
    "    min_value_gap = int(input('Enter min gap of items values:'))\n",
    "    \n",
    "    weights = [random.randint(min_weight_gap,max_weight_gap) for i in range(item_number)]\n",
    "    values = [random.randint(min_value_gap,max_value_gap) for i in range(item_number)]\n",
    "    \n",
    "    print(f\"Max weight: {max_weight}\")\n",
    "    print(f\"Weights: {weights}\")\n",
    "    print(f\"Values: {values}\")\n",
    "    return weights, values, max_weight\n",
    "\n",
    "def UserInitialization():\n",
    "    max_weight = int(input('Enter max weight:'))\n",
    "    item_number = int(input('Enter number of items:'))\n",
    "    \n",
    "    weights = []\n",
    "    values = []\n",
    "    \n",
    "    for i in range(item_number):\n",
    "        \n",
    "        print(f\"Item {i+1}:\")\n",
    "        weight = int(input(\"Enter item weigth:\"))\n",
    "        value = int(input(\"Enter item value:\"))\n",
    "        \n",
    "        weights.append(weight)\n",
    "        values.append(value)\n",
    "    \n",
    "    print(f\"Max weight: {max_weight}\")\n",
    "    print(f\"Weights: {weights}\")\n",
    "    print(f\"Values: {values}\")\n",
    "    return weights, values, max_weight\n",
    "        "
   ]
  },
  {
   "cell_type": "code",
   "execution_count": 25,
   "id": "1f703bc9",
   "metadata": {},
   "outputs": [
    {
     "name": "stdout",
     "output_type": "stream",
     "text": [
      "Enter max weight:15\n",
      "Enter number of items:5\n",
      "Max weight: 15\n",
      "Weights: [10, 3, 6, 1, 1]\n",
      "Values: [3, 1, 4, 9, 10]\n"
     ]
    }
   ],
   "source": [
    "max_weigth,weigths,values = RandomInitialization()"
   ]
  },
  {
   "cell_type": "code",
   "execution_count": 23,
   "id": "4a1e403f",
   "metadata": {},
   "outputs": [
    {
     "name": "stdout",
     "output_type": "stream",
     "text": [
      "Enter max weight:15\n",
      "Enter number of items:5\n",
      "Enter max gap of items weights:12\n",
      "Enter min gap of items weights:3\n",
      "Enter max gap of items values:12\n",
      "Enter min gap of items values:4\n",
      "Max weight: 15\n",
      "Weights: [10, 4, 6, 7, 5]\n",
      "Values: [12, 8, 9, 12, 8]\n"
     ]
    }
   ],
   "source": [
    "max_weigth,weigths,values = UserRandomInitialization()"
   ]
  },
  {
   "cell_type": "code",
   "execution_count": 24,
   "id": "790a091e",
   "metadata": {},
   "outputs": [
    {
     "name": "stdout",
     "output_type": "stream",
     "text": [
      "Enter max weight:15\n",
      "Enter number of items:4\n",
      "Item 1:\n",
      "Enter item weigth:4\n",
      "Enter item value:6\n",
      "Item 2:\n",
      "Enter item weigth:7\n",
      "Enter item value:5\n",
      "Item 3:\n",
      "Enter item weigth:8\n",
      "Enter item value:10\n",
      "Item 4:\n",
      "Enter item weigth:2\n",
      "Enter item value:3\n",
      "Max weight: 15\n",
      "Weights: [4, 7, 8, 2]\n",
      "Values: [6, 5, 10, 3]\n"
     ]
    }
   ],
   "source": [
    "max_weigth,weigths,values = UserInitialization()"
   ]
  },
  {
   "cell_type": "markdown",
   "id": "a5c5fbb2",
   "metadata": {},
   "source": [
    "## Individual representation"
   ]
  },
  {
   "cell_type": "markdown",
   "id": "4880b9aa",
   "metadata": {},
   "source": [
    "An Individual in the Genetic Algorithm is a potential solution. For our knapsack problem, the representation is pretty simple and straightforward; every individual is an n-bit string where each bit correspond to an item from the n items we have. If the item value is 1 then it is picked, otherwise isn't picked. Eg: [0,1,0,1]"
   ]
  },
  {
   "cell_type": "code",
   "execution_count": 41,
   "id": "3bad9ace",
   "metadata": {},
   "outputs": [],
   "source": [
    "def GenerateInitialPopulation(items_number):\n",
    "    size = int(input(\"Enter population size:\"))\n",
    "    return [np.array([random.choice([0,1]) for i in range(items_number)]) for j in range(size)]\n",
    "    "
   ]
  },
  {
   "cell_type": "code",
   "execution_count": 42,
   "id": "e2f1c2e2",
   "metadata": {},
   "outputs": [
    {
     "name": "stdout",
     "output_type": "stream",
     "text": [
      "Enter population size:6\n"
     ]
    }
   ],
   "source": [
    "population = GenerateInitialPopulation(4)"
   ]
  },
  {
   "cell_type": "markdown",
   "id": "1aaad3a3",
   "metadata": {},
   "source": [
    "## Fitness Coefficient"
   ]
  },
  {
   "cell_type": "markdown",
   "id": "c2811a14",
   "metadata": {},
   "source": [
    "Now that the population representation is defined, we need to evaluate how well each individual fits to the problem. For the Knapsack problem the fitness of a individual is measured by it's items values sum as long as the weight restriction is meet. "
   ]
  },
  {
   "cell_type": "code",
   "execution_count": 46,
   "id": "d510c0ae",
   "metadata": {},
   "outputs": [],
   "source": [
    "def fitness(individual, weights, values, max_weight):\n",
    "    if sum(individual*weights)>max_weight:\n",
    "        return 0\n",
    "    else:\n",
    "        return sum(individual*values)"
   ]
  },
  {
   "cell_type": "code",
   "execution_count": 55,
   "id": "b5c8a5d3",
   "metadata": {},
   "outputs": [
    {
     "data": {
      "text/plain": [
       "[0, 4, 0, 9, 7, 9]"
      ]
     },
     "execution_count": 55,
     "metadata": {},
     "output_type": "execute_result"
    }
   ],
   "source": [
    "evaluated = [fitness(individual,weights, values, max_weight) for individual in population]\n",
    "evaluated"
   ]
  },
  {
   "cell_type": "code",
   "execution_count": null,
   "id": "b9d9f662",
   "metadata": {},
   "outputs": [],
   "source": [
    "def evaluate"
   ]
  },
  {
   "cell_type": "markdown",
   "id": "587b32c1",
   "metadata": {},
   "source": [
    "## Tournamnt Selection "
   ]
  },
  {
   "cell_type": "code",
   "execution_count": null,
   "id": "ca0cf81d",
   "metadata": {},
   "outputs": [],
   "source": [
    "def tournament_selection(population, tournament_size, ):\n",
    "    selected_parents = []\n",
    "    population_size = len(population)\n",
    "    \n",
    "    while len(selected_parents) < population_size:\n",
    "        # Randomly select individuals for the tournament\n",
    "        tournament_candidates = random.sample(population, tournament_size)\n",
    "        \n",
    "        # Find the individual with the highest fitness in the tournament\n",
    "        tournament_winner = max(tournament_candidates)\n",
    "        \n",
    "        # Add the tournament winner to the selected parents\n",
    "        selected_parents.append(tournament_winner)\n",
    "    \n",
    "    return selected_parents\n"
   ]
  },
  {
   "cell_type": "code",
   "execution_count": 56,
   "id": "87c96698",
   "metadata": {},
   "outputs": [
    {
     "data": {
      "text/plain": [
       "[array([0, 1, 0, 0]), array([1, 1, 0, 0])]"
      ]
     },
     "execution_count": 56,
     "metadata": {},
     "output_type": "execute_result"
    }
   ],
   "source": [
    "random.sample(population, 2)"
   ]
  },
  {
   "cell_type": "code",
   "execution_count": null,
   "id": "094c6222",
   "metadata": {},
   "outputs": [],
   "source": []
  }
 ],
 "metadata": {
  "kernelspec": {
   "display_name": "Python 3 (ipykernel)",
   "language": "python",
   "name": "python3"
  },
  "language_info": {
   "codemirror_mode": {
    "name": "ipython",
    "version": 3
   },
   "file_extension": ".py",
   "mimetype": "text/x-python",
   "name": "python",
   "nbconvert_exporter": "python",
   "pygments_lexer": "ipython3",
   "version": "3.11.4"
  }
 },
 "nbformat": 4,
 "nbformat_minor": 5
}

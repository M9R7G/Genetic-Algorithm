{
 "cells": [
  {
   "cell_type": "markdown",
   "id": "a82b7e95",
   "metadata": {},
   "source": [
    "## Description"
   ]
  },
  {
   "cell_type": "markdown",
   "id": "a4303559",
   "metadata": {},
   "source": [
    "In this notebook genetic algorithms are used in orer to resolve the Knapsack problem. We have a knapsack with a max gap of weight. We have N items; having weights of W1, to WN; and values V1, to VN that correspound to each item."
   ]
  },
  {
   "cell_type": "markdown",
   "id": "b512e3c2",
   "metadata": {},
   "source": [
    "The goal of the problem is to maximize the value of the knapsack, while meeting the max weight restriction."
   ]
  },
  {
   "cell_type": "code",
   "execution_count": 71,
   "id": "c081b61b",
   "metadata": {},
   "outputs": [],
   "source": [
    "import random\n",
    "import numpy as np\n",
    "import matplotlib.pyplot as plt"
   ]
  },
  {
   "cell_type": "markdown",
   "id": "9cb21280",
   "metadata": {},
   "source": [
    "## Initialization"
   ]
  },
  {
   "cell_type": "code",
   "execution_count": null,
   "id": "b660ea3f",
   "metadata": {},
   "outputs": [],
   "source": [
    "max_weight = 15\n",
    "weights = [7,2,1,9]\n",
    "values = [5,4,7,2]"
   ]
  },
  {
   "cell_type": "code",
   "execution_count": 87,
   "id": "e4d808ef",
   "metadata": {},
   "outputs": [],
   "source": [
    "def RandomInitialization():\n",
    "    \n",
    "    max_weight = int(input('Enter max weight:'))\n",
    "    item_number = int(input('Enter number of items:'))\n",
    "    \n",
    "    weights = [random.randint(1,int(max_weight*0.4)) for i in range(item_number)]\n",
    "    values = [random.randint(1,int(max_weight*0.5)) for i in range(item_number)]\n",
    "    \n",
    "    print(f\"Max weight: {max_weight}\")\n",
    "    print(f\"Weights: {weights}\")\n",
    "    print(f\"Values: {values}\")\n",
    "    return weights, values, max_weight\n",
    "\n",
    "def UserRandomInitialization():\n",
    "    \n",
    "    max_weight = int(input('Enter max weight:'))\n",
    "    item_number = int(input('Enter number of items:'))\n",
    "    max_weight_gap = int(input('Enter max gap of items weights:'))\n",
    "    min_weight_gap = int(input('Enter min gap of items weights:'))\n",
    "    max_value_gap = int(input('Enter max gap of items values:'))\n",
    "    min_value_gap = int(input('Enter min gap of items values:'))\n",
    "    \n",
    "    weights = [random.randint(min_weight_gap,max_weight_gap) for i in range(item_number)]\n",
    "    values = [random.randint(min_value_gap,max_value_gap) for i in range(item_number)]\n",
    "    \n",
    "    print(f\"Max weight: {max_weight}\")\n",
    "    print(f\"Weights: {weights}\")\n",
    "    print(f\"Values: {values}\")\n",
    "    return weights, values, max_weight\n",
    "\n",
    "def UserInitialization():\n",
    "    max_weight = int(input('Enter max weight:'))\n",
    "    item_number = int(input('Enter number of items:'))\n",
    "    \n",
    "    weights = []\n",
    "    values = []\n",
    "    \n",
    "    for i in range(item_number):\n",
    "        \n",
    "        print(f\"Item {i+1}:\")\n",
    "        weight = int(input(\"Enter item weigth:\"))\n",
    "        value = int(input(\"Enter item value:\"))\n",
    "        \n",
    "        weights.append(weight)\n",
    "        values.append(value)\n",
    "    \n",
    "    print(f\"Max weight: {max_weight}\")\n",
    "    print(f\"Weights: {weights}\")\n",
    "    print(f\"Values: {values}\")\n",
    "    return weights, values, max_weight\n",
    "        "
   ]
  },
  {
   "cell_type": "code",
   "execution_count": 18,
   "id": "1f703bc9",
   "metadata": {},
   "outputs": [
    {
     "name": "stdout",
     "output_type": "stream",
     "text": [
      "Enter max weight:15\n",
      "Enter number of items:5\n",
      "Max weight: 15\n",
      "Weights: [6, 6, 3, 9, 10]\n",
      "Values: [10, 8, 10, 5, 3]\n"
     ]
    }
   ],
   "source": [
    "weights,values,max_weight = RandomInitialization()"
   ]
  },
  {
   "cell_type": "code",
   "execution_count": null,
   "id": "4a1e403f",
   "metadata": {},
   "outputs": [],
   "source": [
    "weights,values,max_weight = UserRandomInitialization()"
   ]
  },
  {
   "cell_type": "code",
   "execution_count": null,
   "id": "790a091e",
   "metadata": {},
   "outputs": [],
   "source": [
    "weights,values,max_weight = UserInitialization()"
   ]
  },
  {
   "cell_type": "markdown",
   "id": "a5c5fbb2",
   "metadata": {},
   "source": [
    "## Individual representation an Initial Population"
   ]
  },
  {
   "cell_type": "markdown",
   "id": "4880b9aa",
   "metadata": {},
   "source": [
    "An Individual in the Genetic Algorithm is a potential solution. For our knapsack problem, the representation is pretty simple and straightforward; every individual is an n-bit string where each bit correspond to an item from the n items we have. If the item value is 1 then it is picked, otherwise isn't picked. Eg: [0,1,0,1]"
   ]
  },
  {
   "cell_type": "markdown",
   "id": "9ab8c369",
   "metadata": {},
   "source": [
    "The initial population of solutions is created randomly."
   ]
  },
  {
   "cell_type": "code",
   "execution_count": 5,
   "id": "3bad9ace",
   "metadata": {},
   "outputs": [],
   "source": [
    "def GenerateInitialPopulation(items_number):\n",
    "    size = int(input(\"Enter population size:\"))\n",
    "    return [np.array([random.choice([0,1]) for i in range(items_number)]) for j in range(size)]\n",
    "    "
   ]
  },
  {
   "cell_type": "code",
   "execution_count": 19,
   "id": "e2f1c2e2",
   "metadata": {},
   "outputs": [
    {
     "name": "stdout",
     "output_type": "stream",
     "text": [
      "Enter population size:6\n"
     ]
    }
   ],
   "source": [
    "population = GenerateInitialPopulation(len(values))"
   ]
  },
  {
   "cell_type": "code",
   "execution_count": 20,
   "id": "ee52e48c",
   "metadata": {},
   "outputs": [
    {
     "data": {
      "text/plain": [
       "[array([0, 1, 1, 1, 0]),\n",
       " array([1, 0, 0, 1, 0]),\n",
       " array([0, 0, 1, 0, 1]),\n",
       " array([0, 0, 1, 1, 0]),\n",
       " array([0, 0, 0, 0, 1]),\n",
       " array([0, 0, 0, 1, 0])]"
      ]
     },
     "execution_count": 20,
     "metadata": {},
     "output_type": "execute_result"
    }
   ],
   "source": [
    "population"
   ]
  },
  {
   "cell_type": "markdown",
   "id": "1aaad3a3",
   "metadata": {},
   "source": [
    "## Fitness Coefficient"
   ]
  },
  {
   "cell_type": "markdown",
   "id": "c2811a14",
   "metadata": {},
   "source": [
    "Now that the population representation is defined, we need to evaluate how well each individual fits to the problem. For the Knapsack problem the fitness of a individual is measured by it's items values sum as long as the weight restriction is meet. "
   ]
  },
  {
   "cell_type": "code",
   "execution_count": 16,
   "id": "d510c0ae",
   "metadata": {},
   "outputs": [],
   "source": [
    "def fitness(individual, weights, values, max_weight):\n",
    "    if sum(individual*weights)>max_weight:\n",
    "        return 0\n",
    "    else:\n",
    "        return sum(individual*values)"
   ]
  },
  {
   "cell_type": "code",
   "execution_count": 21,
   "id": "b5c8a5d3",
   "metadata": {},
   "outputs": [
    {
     "data": {
      "text/plain": [
       "[0, 15, 13, 15, 3, 5]"
      ]
     },
     "execution_count": 21,
     "metadata": {},
     "output_type": "execute_result"
    }
   ],
   "source": [
    "scores = [fitness(individual,weights, values, max_weight) for individual in population]\n",
    "scores"
   ]
  },
  {
   "cell_type": "markdown",
   "id": "587b32c1",
   "metadata": {},
   "source": [
    "## Tournament Selection "
   ]
  },
  {
   "cell_type": "markdown",
   "id": "9b3ffe92",
   "metadata": {},
   "source": [
    "Then cadidates are selected for crossover based in their fitness values. For this implementation tournament selection has been used. In this selection method the best fitted candidate is choosed from a random subsample of the population. "
   ]
  },
  {
   "cell_type": "code",
   "execution_count": 56,
   "id": "094c6222",
   "metadata": {},
   "outputs": [],
   "source": [
    "import random\n",
    "\n",
    "def tournament_selection(population, tournament_size, weights, values, max_weight):\n",
    "    selected_parents = []\n",
    "    population_size = len(population)\n",
    "    \n",
    "    while len(selected_parents) < population_size:\n",
    "        # Randomly select individuals for the tournament\n",
    "        tournament_candidates = random.sample(population, tournament_size)\n",
    "        \n",
    "        # Calculate fitness scores for tournament candidates using the provided fitness function\n",
    "        fitness_scores = [fitness(candidate, weights, values, max_weight) for candidate in tournament_candidates]\n",
    "        \n",
    "        # Find the index of the tournament winner based on fitness scores\n",
    "        tournament_winner_index = fitness_scores.index(max(fitness_scores))\n",
    "        \n",
    "        # Add the tournament winner to the selected parents\n",
    "        selected_parents.append(tournament_candidates[tournament_winner_index])\n",
    "    \n",
    "    return selected_parents\n"
   ]
  },
  {
   "cell_type": "code",
   "execution_count": 23,
   "id": "0208111e",
   "metadata": {},
   "outputs": [
    {
     "name": "stdout",
     "output_type": "stream",
     "text": [
      "[6, 6, 3, 9, 10]\n"
     ]
    },
    {
     "data": {
      "text/plain": [
       "[array([0, 0, 1, 1, 0]),\n",
       " array([0, 0, 1, 0, 1]),\n",
       " array([1, 0, 0, 1, 0]),\n",
       " array([1, 0, 0, 1, 0]),\n",
       " array([0, 0, 1, 1, 0]),\n",
       " array([0, 0, 0, 1, 0])]"
      ]
     },
     "execution_count": 23,
     "metadata": {},
     "output_type": "execute_result"
    }
   ],
   "source": [
    "selected_parents = tournament_selection(population, 2, weights, values, max_weight)\n",
    "selected_parents"
   ]
  },
  {
   "cell_type": "markdown",
   "id": "6d989d85",
   "metadata": {},
   "source": [
    "## Crossover operator"
   ]
  },
  {
   "cell_type": "markdown",
   "id": "613ed50d",
   "metadata": {},
   "source": [
    "The method to cross the candidates is defined next. Uniform crossover have been used in this implementation. This method choose randomly from wich parents values are inherited for each position of the resultant childrens."
   ]
  },
  {
   "cell_type": "code",
   "execution_count": 26,
   "id": "8ed76ea6",
   "metadata": {},
   "outputs": [],
   "source": [
    "def uniform_crossover(parent1, parent2):\n",
    "    if len(parent1) != len(parent2):\n",
    "        raise ValueError(\"Parents must have the same length for uniform crossover.\")\n",
    "    \n",
    "    child1 = []\n",
    "    child2 = []\n",
    "    \n",
    "    for i in range(len(parent1)):\n",
    "        # Randomly select genes from parents for offspring\n",
    "        if random.random() < 0.5:\n",
    "            child1.append(parent1[i])\n",
    "            child2.append(parent2[i])\n",
    "        else:\n",
    "            child1.append(parent2[i])\n",
    "            child2.append(parent1[i])\n",
    "    \n",
    "    return child1, child2"
   ]
  },
  {
   "cell_type": "code",
   "execution_count": 28,
   "id": "e777c949",
   "metadata": {},
   "outputs": [
    {
     "data": {
      "text/plain": [
       "([0, 0, 1, 0, 1], [0, 0, 1, 1, 0])"
      ]
     },
     "execution_count": 28,
     "metadata": {},
     "output_type": "execute_result"
    }
   ],
   "source": [
    "child1, child2 = uniform_crossover(selected_parents[0], selected_parents[1])\n",
    "child1,child2"
   ]
  },
  {
   "cell_type": "markdown",
   "id": "2b0c4ac0",
   "metadata": {},
   "source": [
    "## Mutation Operator"
   ]
  },
  {
   "cell_type": "markdown",
   "id": "3db2d05b",
   "metadata": {},
   "source": [
    "The mutation operator serves to add variety to the new generation, making possible to explore more solutions and maybe reach another max solution that may be better, instead of going straight forward for the first finded local max solution. In this case bit flip mutation has been implemented. This operator flips the current position value with its opposite (1 is changed by 0, and 0 by 1) when the mutation rate allows it."
   ]
  },
  {
   "cell_type": "code",
   "execution_count": 29,
   "id": "395ce990",
   "metadata": {},
   "outputs": [],
   "source": [
    "def bit_flip_mutation(individual, mutation_rate):\n",
    "    mutated_individual = list(individual)\n",
    "    \n",
    "    for i in range(len(mutated_individual)):\n",
    "        if random.random() < mutation_rate:\n",
    "            # Flip the bit at index i\n",
    "            mutated_individual[i] = 1 if individual[i] == 0 else 0\n",
    "    \n",
    "    return mutated_individual\n"
   ]
  },
  {
   "cell_type": "code",
   "execution_count": 30,
   "id": "5f2603a2",
   "metadata": {},
   "outputs": [
    {
     "data": {
      "text/plain": [
       "[1, 1, 0, 1, 1]"
      ]
     },
     "execution_count": 30,
     "metadata": {},
     "output_type": "execute_result"
    }
   ],
   "source": [
    "child1 = bit_flip_mutation(child1, 0.5)\n",
    "child1"
   ]
  },
  {
   "cell_type": "markdown",
   "id": "632b5659",
   "metadata": {},
   "source": [
    "## Crossover "
   ]
  },
  {
   "cell_type": "markdown",
   "id": "5f42eb5b",
   "metadata": {},
   "source": [
    "In this fuction crossover and mutation operators are applied in order to create the children candidates."
   ]
  },
  {
   "cell_type": "code",
   "execution_count": 45,
   "id": "74ab0cf6",
   "metadata": {},
   "outputs": [],
   "source": [
    "def crossover(parents, mutation_rate):\n",
    "    children=[]\n",
    "    \n",
    "    for i in range(0,len(parents),2):\n",
    "        child1, child2 = uniform_crossover(parents[i], parents[i+1])\n",
    "        \n",
    "        child1 = bit_flip_mutation(child1, mutation_rate)\n",
    "        child2 = bit_flip_mutation(child2, mutation_rate)\n",
    "        \n",
    "        children.append(np.array(child1))\n",
    "        children.append(np.array(child2))\n",
    "        \n",
    "    return children"
   ]
  },
  {
   "cell_type": "code",
   "execution_count": 46,
   "id": "18643931",
   "metadata": {},
   "outputs": [
    {
     "data": {
      "text/plain": [
       "[array([0, 0, 1, 1, 0]),\n",
       " array([0, 0, 1, 0, 1]),\n",
       " array([1, 0, 1, 1, 0]),\n",
       " array([1, 0, 0, 1, 0]),\n",
       " array([0, 0, 0, 1, 0]),\n",
       " array([0, 0, 1, 1, 0])]"
      ]
     },
     "execution_count": 46,
     "metadata": {},
     "output_type": "execute_result"
    }
   ],
   "source": [
    "children = crossover(selected_parents, 0.1)\n",
    "children"
   ]
  },
  {
   "cell_type": "markdown",
   "id": "43ea5a4f",
   "metadata": {},
   "source": [
    "## Replacement"
   ]
  },
  {
   "cell_type": "markdown",
   "id": "761eb0b7",
   "metadata": {},
   "source": [
    "Next is time to replace the population wiht the new generation of children. In the replacement process children candidates will replace parents candidates as long as their fitness value is higher."
   ]
  },
  {
   "cell_type": "code",
   "execution_count": 47,
   "id": "1f79a894",
   "metadata": {},
   "outputs": [],
   "source": [
    "def replacement(parents, children, parents_scores, children_scores):\n",
    "    new_generation = []\n",
    "    \n",
    "    for i in range(len(parents)):\n",
    "        if parents_scores[i]>=children_scores[i]:\n",
    "            new_generation.append(parents[i])\n",
    "        else:\n",
    "            new_generation.append(children[i])\n",
    "            \n",
    "    return new_generation\n",
    "    "
   ]
  },
  {
   "cell_type": "code",
   "execution_count": 48,
   "id": "a7d1760e",
   "metadata": {},
   "outputs": [
    {
     "name": "stdout",
     "output_type": "stream",
     "text": [
      "Previous population:\n",
      "[array([0, 0, 1, 1, 0]), array([0, 0, 1, 1, 0]), array([1, 0, 0, 1, 0]), array([1, 0, 0, 1, 0]), array([0, 0, 1, 1, 0]), array([0, 1, 0, 1, 0])]\n",
      "New population:\n",
      "[array([0, 0, 1, 1, 0]), array([0, 0, 1, 0, 1]), array([1, 0, 0, 1, 0]), array([1, 0, 0, 1, 0]), array([0, 0, 1, 1, 0]), array([0, 0, 1, 1, 0])]\n"
     ]
    }
   ],
   "source": [
    "parents_scores = [fitness(individual,weights, values, max_weight) for individual in selected_parents]\n",
    "children_scores = [fitness(individual,weights, values, max_weight) for individual in children]\n",
    "print(\"Previous population:\")\n",
    "print(population)\n",
    "population = replacement(selected_parents, children, parents_scores, children_scores)\n",
    "print(\"New population:\")\n",
    "print(population)"
   ]
  },
  {
   "cell_type": "markdown",
   "id": "eada0f37",
   "metadata": {},
   "source": [
    "## Evolution algorithm"
   ]
  },
  {
   "cell_type": "markdown",
   "id": "998b3e36",
   "metadata": {},
   "source": [
    "In this function all the pieces of the algoritm are put together in a main loop that will iterate throught the generations of the population until a stop criteria is met. For this implementation the stop criteria is a gap of iterations set to 100. The evolution of the fitness values of the best solution is stored. "
   ]
  },
  {
   "cell_type": "code",
   "execution_count": 94,
   "id": "c013e34f",
   "metadata": {},
   "outputs": [],
   "source": [
    "def evolution(mutation_rate):\n",
    "    historical_best_score = []\n",
    "    \n",
    "    weights,values,max_weight = RandomInitialization()\n",
    "\n",
    "    population = GenerateInitialPopulation(len(values))\n",
    "    \n",
    "    previous_score = 0\n",
    "    stop_criteria = 0\n",
    "    \n",
    "    while (stop_criteria < 100):\n",
    "        \n",
    "        scores = [fitness(individual,weights, values, max_weight) for individual in population]\n",
    "        best_score = max(scores)\n",
    "        best_solution = population[scores.index(max(scores))]\n",
    "        historical_best_score.append(best_score)\n",
    "        \n",
    "        print(\"-\"*40)\n",
    "        print(\"Best solution:\")\n",
    "        print(best_solution)\n",
    "        print(\"Best score:\")\n",
    "        print(best_score)\n",
    "        print(\"-\"*40)\n",
    "        \n",
    "        selected_parents = tournament_selection(population, 2, weights, values, max_weight)\n",
    "        parents_scores = [fitness(individual,weights, values, max_weight) for individual in selected_parents]\n",
    "        \n",
    "        children = crossover(selected_parents, mutation_rate)\n",
    "        children_scores = [fitness(individual,weights, values, max_weight) for individual in children]\n",
    "        \n",
    "        population = replacement(selected_parents, children, parents_scores, children_scores)\n",
    "        \n",
    "        stop_criteria+=1\n",
    "        \n",
    "    return best_solution, best_score, historical_best_score\n",
    "        "
   ]
  },
  {
   "cell_type": "code",
   "execution_count": 95,
   "id": "1c0ede3c",
   "metadata": {},
   "outputs": [
    {
     "name": "stdout",
     "output_type": "stream",
     "text": [
      "Enter max weight:100\n",
      "Enter number of items:20\n",
      "Max weight: 100\n",
      "Weights: [30, 13, 6, 29, 38, 10, 36, 22, 38, 20, 33, 15, 31, 14, 29, 21, 6, 37, 26, 9]\n",
      "Values: [28, 22, 40, 20, 21, 6, 44, 31, 42, 2, 8, 15, 16, 38, 25, 9, 2, 32, 2, 6]\n",
      "Enter population size:10\n",
      "----------------------------------------\n",
      "Best solution:\n",
      "[0 1 0 0 0 1 1 0 0 1 0 1 0 0 0 1 0 1 0 0]\n",
      "Best score:\n",
      "0\n",
      "----------------------------------------\n",
      "----------------------------------------\n",
      "Best solution:\n",
      "[0 0 1 1 0 0 0 0 0 0 1 0 0 1 0 1 1 0 0 0]\n",
      "Best score:\n",
      "0\n",
      "----------------------------------------\n",
      "----------------------------------------\n",
      "Best solution:\n",
      "[1 0 0 0 1 0 1 1 1 1 0 1 1 0 1 1 0 1 1 1]\n",
      "Best score:\n",
      "0\n",
      "----------------------------------------\n",
      "----------------------------------------\n",
      "Best solution:\n",
      "[0 0 1 0 0 0 0 0 0 0 0 0 0 1 0 1 1 0 0 0]\n",
      "Best score:\n",
      "89\n",
      "----------------------------------------\n",
      "----------------------------------------\n",
      "Best solution:\n",
      "[0 0 1 0 0 0 0 0 0 0 0 0 0 1 0 1 1 0 0 0]\n",
      "Best score:\n",
      "89\n",
      "----------------------------------------\n",
      "----------------------------------------\n",
      "Best solution:\n",
      "[0 0 1 1 0 0 0 0 0 0 0 0 0 1 0 1 1 0 0 0]\n",
      "Best score:\n",
      "109\n",
      "----------------------------------------\n",
      "----------------------------------------\n",
      "Best solution:\n",
      "[0 0 1 1 0 0 0 0 0 0 0 0 0 1 0 1 1 0 0 0]\n",
      "Best score:\n",
      "109\n",
      "----------------------------------------\n",
      "----------------------------------------\n",
      "Best solution:\n",
      "[0 0 1 1 0 0 0 0 0 0 0 1 0 1 0 1 1 0 0 0]\n",
      "Best score:\n",
      "124\n",
      "----------------------------------------\n",
      "----------------------------------------\n",
      "Best solution:\n",
      "[0 0 1 1 1 0 0 0 0 0 0 0 0 1 0 0 0 0 0 0]\n",
      "Best score:\n",
      "119\n",
      "----------------------------------------\n",
      "----------------------------------------\n",
      "Best solution:\n",
      "[0 0 1 1 1 0 0 0 0 0 0 0 0 1 0 0 0 0 0 1]\n",
      "Best score:\n",
      "125\n",
      "----------------------------------------\n",
      "----------------------------------------\n",
      "Best solution:\n",
      "[0 0 1 1 0 0 0 0 1 0 0 0 0 1 0 0 1 0 0 0]\n",
      "Best score:\n",
      "142\n",
      "----------------------------------------\n",
      "----------------------------------------\n",
      "Best solution:\n",
      "[0 0 1 1 0 0 0 0 1 0 0 0 0 1 0 0 1 0 0 0]\n",
      "Best score:\n",
      "142\n",
      "----------------------------------------\n",
      "----------------------------------------\n",
      "Best solution:\n",
      "[0 0 1 1 0 1 0 0 1 0 0 0 0 1 0 0 0 0 0 0]\n",
      "Best score:\n",
      "146\n",
      "----------------------------------------\n",
      "----------------------------------------\n",
      "Best solution:\n",
      "[0 0 1 1 0 1 0 0 1 0 0 0 0 1 0 0 0 0 0 0]\n",
      "Best score:\n",
      "146\n",
      "----------------------------------------\n",
      "----------------------------------------\n",
      "Best solution:\n",
      "[0 0 1 0 0 0 0 0 1 0 0 0 0 1 1 0 1 0 0 0]\n",
      "Best score:\n",
      "147\n",
      "----------------------------------------\n",
      "----------------------------------------\n",
      "Best solution:\n",
      "[0 0 1 1 0 1 0 0 1 0 0 0 0 1 0 0 0 0 0 0]\n",
      "Best score:\n",
      "146\n",
      "----------------------------------------\n",
      "----------------------------------------\n",
      "Best solution:\n",
      "[0 0 1 1 0 1 0 0 1 0 0 0 0 1 0 0 0 0 0 0]\n",
      "Best score:\n",
      "146\n",
      "----------------------------------------\n",
      "----------------------------------------\n",
      "Best solution:\n",
      "[0 0 1 1 0 1 0 0 1 0 0 0 0 1 0 0 0 0 0 0]\n",
      "Best score:\n",
      "146\n",
      "----------------------------------------\n",
      "----------------------------------------\n",
      "Best solution:\n",
      "[0 0 1 1 0 1 0 0 1 0 0 0 0 1 0 0 0 0 0 0]\n",
      "Best score:\n",
      "146\n",
      "----------------------------------------\n",
      "----------------------------------------\n",
      "Best solution:\n",
      "[0 0 1 1 0 1 0 0 1 0 0 0 0 1 0 0 0 0 0 0]\n",
      "Best score:\n",
      "146\n",
      "----------------------------------------\n",
      "----------------------------------------\n",
      "Best solution:\n",
      "[0 0 1 1 0 1 0 0 1 0 0 0 0 1 0 0 0 0 0 0]\n",
      "Best score:\n",
      "146\n",
      "----------------------------------------\n",
      "----------------------------------------\n",
      "Best solution:\n",
      "[0 0 1 1 0 1 0 0 1 0 0 0 0 1 0 0 0 0 0 0]\n",
      "Best score:\n",
      "146\n",
      "----------------------------------------\n",
      "----------------------------------------\n",
      "Best solution:\n",
      "[0 0 1 1 0 1 0 0 1 0 0 0 0 1 0 0 0 0 0 0]\n",
      "Best score:\n",
      "146\n",
      "----------------------------------------\n",
      "----------------------------------------\n",
      "Best solution:\n",
      "[0 0 1 1 0 1 0 0 1 0 0 0 0 1 0 0 0 0 0 0]\n",
      "Best score:\n",
      "146\n",
      "----------------------------------------\n",
      "----------------------------------------\n",
      "Best solution:\n",
      "[0 0 1 1 0 1 0 0 1 0 0 0 0 1 0 0 0 0 0 0]\n",
      "Best score:\n",
      "146\n",
      "----------------------------------------\n",
      "----------------------------------------\n",
      "Best solution:\n",
      "[0 0 1 1 0 1 0 0 1 0 0 0 0 1 0 0 0 0 0 0]\n",
      "Best score:\n",
      "146\n",
      "----------------------------------------\n",
      "----------------------------------------\n",
      "Best solution:\n",
      "[0 1 1 1 0 0 0 0 1 0 0 0 0 1 0 0 0 0 0 0]\n",
      "Best score:\n",
      "162\n",
      "----------------------------------------\n",
      "----------------------------------------\n",
      "Best solution:\n",
      "[0 1 1 1 0 0 0 0 1 0 0 0 0 1 0 0 0 0 0 0]\n",
      "Best score:\n",
      "162\n",
      "----------------------------------------\n",
      "----------------------------------------\n",
      "Best solution:\n",
      "[0 1 1 1 0 0 0 0 1 0 0 0 0 1 0 0 0 0 0 0]\n",
      "Best score:\n",
      "162\n",
      "----------------------------------------\n",
      "----------------------------------------\n",
      "Best solution:\n",
      "[0 1 1 1 0 0 0 0 1 0 0 0 0 1 0 0 0 0 0 0]\n",
      "Best score:\n",
      "162\n",
      "----------------------------------------\n",
      "----------------------------------------\n",
      "Best solution:\n",
      "[0 1 1 1 0 0 0 0 1 0 0 0 0 1 0 0 0 0 0 0]\n",
      "Best score:\n",
      "162\n",
      "----------------------------------------\n",
      "----------------------------------------\n",
      "Best solution:\n",
      "[0 1 1 1 0 0 0 0 1 0 0 0 0 1 0 0 0 0 0 0]\n",
      "Best score:\n",
      "162\n",
      "----------------------------------------\n",
      "----------------------------------------\n",
      "Best solution:\n",
      "[0 1 1 1 0 0 0 0 1 0 0 0 0 1 0 0 0 0 0 0]\n",
      "Best score:\n",
      "162\n",
      "----------------------------------------\n",
      "----------------------------------------\n",
      "Best solution:\n",
      "[0 1 1 1 0 0 0 0 1 0 0 0 0 1 0 0 0 0 0 0]\n",
      "Best score:\n",
      "162\n",
      "----------------------------------------\n",
      "----------------------------------------\n",
      "Best solution:\n",
      "[0 1 1 1 0 0 0 0 1 0 0 0 0 1 0 0 0 0 0 0]\n",
      "Best score:\n",
      "162\n",
      "----------------------------------------\n",
      "----------------------------------------\n",
      "Best solution:\n",
      "[0 1 1 0 0 0 0 0 1 0 0 0 0 1 1 0 0 0 0 0]\n",
      "Best score:\n",
      "167\n",
      "----------------------------------------\n",
      "----------------------------------------\n",
      "Best solution:\n",
      "[0 1 1 0 0 0 0 0 1 0 0 0 0 1 1 0 0 0 0 0]\n",
      "Best score:\n",
      "167\n",
      "----------------------------------------\n",
      "----------------------------------------\n",
      "Best solution:\n",
      "[0 1 1 0 0 0 0 0 1 0 0 0 0 1 1 0 0 0 0 0]\n",
      "Best score:\n",
      "167\n",
      "----------------------------------------\n",
      "----------------------------------------\n",
      "Best solution:\n",
      "[0 1 1 0 0 0 0 0 1 0 0 0 0 1 1 0 0 0 0 0]\n",
      "Best score:\n",
      "167\n",
      "----------------------------------------\n",
      "----------------------------------------\n",
      "Best solution:\n",
      "[0 1 1 0 0 0 0 0 1 0 0 0 0 1 1 0 0 0 0 0]\n",
      "Best score:\n",
      "167\n",
      "----------------------------------------\n",
      "----------------------------------------\n",
      "Best solution:\n",
      "[0 1 1 0 0 0 0 0 1 0 0 0 0 1 1 0 0 0 0 0]\n",
      "Best score:\n",
      "167\n",
      "----------------------------------------\n",
      "----------------------------------------\n",
      "Best solution:\n",
      "[0 1 1 0 0 0 0 0 1 0 0 0 0 1 1 0 0 0 0 0]\n",
      "Best score:\n",
      "167\n",
      "----------------------------------------\n",
      "----------------------------------------\n",
      "Best solution:\n",
      "[0 1 1 0 0 0 0 0 1 0 0 0 0 1 1 0 0 0 0 0]\n",
      "Best score:\n",
      "167\n",
      "----------------------------------------\n",
      "----------------------------------------\n",
      "Best solution:\n",
      "[0 1 1 0 0 0 0 0 1 0 0 0 0 1 1 0 0 0 0 0]\n",
      "Best score:\n",
      "167\n",
      "----------------------------------------\n",
      "----------------------------------------\n",
      "Best solution:\n",
      "[0 1 1 0 0 0 0 0 1 0 0 0 0 1 1 0 0 0 0 0]\n",
      "Best score:\n",
      "167\n",
      "----------------------------------------\n",
      "----------------------------------------\n",
      "Best solution:\n",
      "[0 1 1 0 0 0 0 0 1 0 0 0 0 1 1 0 0 0 0 0]\n",
      "Best score:\n",
      "167\n",
      "----------------------------------------\n",
      "----------------------------------------\n",
      "Best solution:\n",
      "[0 1 1 0 0 0 0 0 1 0 0 0 0 1 1 0 0 0 0 0]\n",
      "Best score:\n",
      "167\n",
      "----------------------------------------\n",
      "----------------------------------------\n",
      "Best solution:\n",
      "[0 1 1 0 0 0 0 0 1 0 0 0 0 1 1 0 0 0 0 0]\n",
      "Best score:\n",
      "167\n",
      "----------------------------------------\n",
      "----------------------------------------\n",
      "Best solution:\n",
      "[0 1 1 0 0 0 0 0 1 0 0 0 0 1 1 0 0 0 0 0]\n",
      "Best score:\n",
      "167\n",
      "----------------------------------------\n",
      "----------------------------------------\n",
      "Best solution:\n",
      "[0 1 1 0 0 0 0 0 1 0 0 0 0 1 1 0 0 0 0 0]\n",
      "Best score:\n",
      "167\n",
      "----------------------------------------\n",
      "----------------------------------------\n",
      "Best solution:\n",
      "[0 1 1 0 0 0 0 0 1 0 0 0 0 1 1 0 0 0 0 0]\n",
      "Best score:\n",
      "167\n",
      "----------------------------------------\n",
      "----------------------------------------\n",
      "Best solution:\n",
      "[0 1 1 0 0 0 0 0 1 0 0 0 0 1 1 0 0 0 0 0]\n",
      "Best score:\n",
      "167\n",
      "----------------------------------------\n",
      "----------------------------------------\n",
      "Best solution:\n",
      "[0 1 1 0 0 0 0 0 1 0 0 0 0 1 1 0 0 0 0 0]\n",
      "Best score:\n",
      "167\n",
      "----------------------------------------\n",
      "----------------------------------------\n",
      "Best solution:\n",
      "[0 1 1 0 0 0 0 0 1 0 0 0 0 1 1 0 0 0 0 0]\n",
      "Best score:\n",
      "167\n",
      "----------------------------------------\n",
      "----------------------------------------\n",
      "Best solution:\n",
      "[0 1 1 0 0 0 0 0 1 0 0 0 0 1 1 0 0 0 0 0]\n",
      "Best score:\n",
      "167\n",
      "----------------------------------------\n",
      "----------------------------------------\n",
      "Best solution:\n",
      "[0 1 1 0 0 0 0 0 1 0 0 0 0 1 1 0 0 0 0 0]\n",
      "Best score:\n",
      "167\n",
      "----------------------------------------\n",
      "----------------------------------------\n",
      "Best solution:\n",
      "[0 1 1 0 0 0 0 0 1 0 0 0 0 1 1 0 0 0 0 0]\n",
      "Best score:\n",
      "167\n",
      "----------------------------------------\n",
      "----------------------------------------\n",
      "Best solution:\n",
      "[0 1 1 0 0 0 0 0 1 0 0 0 0 1 1 0 0 0 0 0]\n",
      "Best score:\n",
      "167\n",
      "----------------------------------------\n",
      "----------------------------------------\n",
      "Best solution:\n",
      "[0 1 1 0 0 0 0 0 1 0 0 0 0 1 1 0 0 0 0 0]\n",
      "Best score:\n",
      "167\n",
      "----------------------------------------\n",
      "----------------------------------------\n",
      "Best solution:\n",
      "[0 1 1 0 0 0 0 0 1 0 0 0 0 1 1 0 0 0 0 0]\n",
      "Best score:\n",
      "167\n",
      "----------------------------------------\n",
      "----------------------------------------\n",
      "Best solution:\n",
      "[0 1 1 0 0 0 0 0 1 0 0 0 0 1 1 0 0 0 0 0]\n",
      "Best score:\n",
      "167\n",
      "----------------------------------------\n",
      "----------------------------------------\n",
      "Best solution:\n",
      "[0 1 1 0 0 0 0 0 1 0 0 0 0 1 1 0 0 0 0 0]\n",
      "Best score:\n",
      "167\n",
      "----------------------------------------\n",
      "----------------------------------------\n",
      "Best solution:\n",
      "[0 1 1 0 0 0 0 0 1 0 0 0 0 1 1 0 0 0 0 0]\n",
      "Best score:\n",
      "167\n",
      "----------------------------------------\n",
      "----------------------------------------\n",
      "Best solution:\n",
      "[0 1 1 0 0 0 0 0 1 0 0 0 0 1 1 0 0 0 0 0]\n",
      "Best score:\n",
      "167\n",
      "----------------------------------------\n",
      "----------------------------------------\n",
      "Best solution:\n",
      "[0 1 1 0 0 0 0 0 1 0 0 0 0 1 1 0 0 0 0 0]\n",
      "Best score:\n",
      "167\n",
      "----------------------------------------\n",
      "----------------------------------------\n",
      "Best solution:\n",
      "[0 1 1 0 0 0 0 0 1 0 0 0 0 1 1 0 0 0 0 0]\n",
      "Best score:\n",
      "167\n",
      "----------------------------------------\n",
      "----------------------------------------\n",
      "Best solution:\n",
      "[0 1 1 0 0 0 0 0 1 0 0 0 0 1 1 0 0 0 0 0]\n",
      "Best score:\n",
      "167\n",
      "----------------------------------------\n",
      "----------------------------------------\n",
      "Best solution:\n",
      "[0 1 1 0 0 0 0 0 1 0 0 0 0 1 1 0 0 0 0 0]\n",
      "Best score:\n",
      "167\n",
      "----------------------------------------\n",
      "----------------------------------------\n",
      "Best solution:\n",
      "[0 1 1 0 0 0 0 0 1 0 0 0 0 1 1 0 0 0 0 0]\n",
      "Best score:\n",
      "167\n",
      "----------------------------------------\n",
      "----------------------------------------\n",
      "Best solution:\n",
      "[0 1 1 0 0 0 0 0 1 0 0 0 0 1 1 0 0 0 0 0]\n",
      "Best score:\n",
      "167\n",
      "----------------------------------------\n",
      "----------------------------------------\n",
      "Best solution:\n",
      "[0 1 1 0 0 0 0 0 1 0 0 0 0 1 1 0 0 0 0 0]\n",
      "Best score:\n",
      "167\n",
      "----------------------------------------\n",
      "----------------------------------------\n",
      "Best solution:\n",
      "[0 1 1 0 0 0 0 0 1 0 0 0 0 1 1 0 0 0 0 0]\n",
      "Best score:\n",
      "167\n",
      "----------------------------------------\n",
      "----------------------------------------\n",
      "Best solution:\n",
      "[0 1 1 0 0 0 0 0 1 0 0 0 0 1 1 0 0 0 0 0]\n",
      "Best score:\n",
      "167\n",
      "----------------------------------------\n",
      "----------------------------------------\n",
      "Best solution:\n",
      "[0 1 1 0 0 0 0 0 1 0 0 0 0 1 1 0 0 0 0 0]\n",
      "Best score:\n",
      "167\n",
      "----------------------------------------\n",
      "----------------------------------------\n",
      "Best solution:\n",
      "[0 1 1 0 0 0 0 0 1 0 0 0 0 1 1 0 0 0 0 0]\n",
      "Best score:\n",
      "167\n",
      "----------------------------------------\n",
      "----------------------------------------\n",
      "Best solution:\n",
      "[0 1 1 0 0 0 0 0 1 0 0 0 0 1 1 0 0 0 0 0]\n",
      "Best score:\n",
      "167\n",
      "----------------------------------------\n",
      "----------------------------------------\n",
      "Best solution:\n",
      "[0 1 1 0 0 0 0 0 1 0 0 0 0 1 1 0 0 0 0 0]\n",
      "Best score:\n",
      "167\n",
      "----------------------------------------\n",
      "----------------------------------------\n",
      "Best solution:\n",
      "[0 1 1 0 0 0 0 0 1 0 0 0 0 1 1 0 0 0 0 0]\n",
      "Best score:\n",
      "167\n",
      "----------------------------------------\n",
      "----------------------------------------\n",
      "Best solution:\n",
      "[0 1 1 0 0 0 0 0 1 0 0 0 0 1 1 0 0 0 0 0]\n",
      "Best score:\n",
      "167\n",
      "----------------------------------------\n",
      "----------------------------------------\n",
      "Best solution:\n",
      "[0 1 1 0 0 0 0 0 1 0 0 0 0 1 1 0 0 0 0 0]\n",
      "Best score:\n",
      "167\n",
      "----------------------------------------\n",
      "----------------------------------------\n",
      "Best solution:\n",
      "[0 1 1 0 0 0 0 0 1 0 0 0 0 1 1 0 0 0 0 0]\n",
      "Best score:\n",
      "167\n",
      "----------------------------------------\n",
      "----------------------------------------\n",
      "Best solution:\n",
      "[0 1 1 0 0 0 0 0 1 0 0 0 0 1 1 0 0 0 0 0]\n",
      "Best score:\n",
      "167\n",
      "----------------------------------------\n",
      "----------------------------------------\n",
      "Best solution:\n",
      "[0 1 1 0 0 0 0 0 1 0 0 0 0 1 1 0 0 0 0 0]\n",
      "Best score:\n",
      "167\n",
      "----------------------------------------\n",
      "----------------------------------------\n",
      "Best solution:\n",
      "[0 1 1 0 0 0 0 0 1 0 0 0 0 1 1 0 0 0 0 0]\n",
      "Best score:\n",
      "167\n",
      "----------------------------------------\n",
      "----------------------------------------\n",
      "Best solution:\n",
      "[0 1 1 0 0 0 0 0 1 0 0 0 0 1 1 0 0 0 0 0]\n",
      "Best score:\n",
      "167\n",
      "----------------------------------------\n",
      "----------------------------------------\n",
      "Best solution:\n",
      "[0 1 1 0 0 0 0 0 1 0 0 0 0 1 1 0 0 0 0 0]\n",
      "Best score:\n",
      "167\n",
      "----------------------------------------\n",
      "----------------------------------------\n",
      "Best solution:\n",
      "[0 1 1 0 0 0 0 0 1 0 0 0 0 1 1 0 0 0 0 0]\n",
      "Best score:\n",
      "167\n",
      "----------------------------------------\n",
      "----------------------------------------\n",
      "Best solution:\n",
      "[0 1 1 0 0 0 0 0 1 0 0 0 0 1 1 0 0 0 0 0]\n",
      "Best score:\n",
      "167\n",
      "----------------------------------------\n",
      "----------------------------------------\n",
      "Best solution:\n",
      "[0 1 1 0 0 0 0 0 1 0 0 0 0 1 1 0 0 0 0 0]\n",
      "Best score:\n",
      "167\n",
      "----------------------------------------\n",
      "----------------------------------------\n",
      "Best solution:\n",
      "[0 1 1 0 0 0 0 0 1 0 0 0 0 1 1 0 0 0 0 0]\n",
      "Best score:\n",
      "167\n",
      "----------------------------------------\n",
      "----------------------------------------\n",
      "Best solution:\n",
      "[0 1 1 0 0 0 0 0 1 0 0 0 0 1 1 0 0 0 0 0]\n",
      "Best score:\n",
      "167\n",
      "----------------------------------------\n",
      "----------------------------------------\n",
      "Best solution:\n",
      "[0 1 1 0 0 0 0 0 1 0 0 0 0 1 1 0 0 0 0 0]\n",
      "Best score:\n",
      "167\n",
      "----------------------------------------\n",
      "----------------------------------------\n",
      "Best solution:\n",
      "[0 1 1 0 0 0 0 0 1 0 0 0 0 1 1 0 0 0 0 0]\n",
      "Best score:\n",
      "167\n",
      "----------------------------------------\n",
      "----------------------------------------\n",
      "Best solution:\n",
      "[0 1 1 0 0 0 0 0 1 0 0 0 0 1 1 0 0 0 0 0]\n",
      "Best score:\n",
      "167\n",
      "----------------------------------------\n",
      "----------------------------------------\n",
      "Best solution:\n",
      "[0 1 1 0 0 0 0 0 1 0 0 0 0 1 1 0 0 0 0 0]\n",
      "Best score:\n",
      "167\n",
      "----------------------------------------\n",
      "----------------------------------------\n",
      "Best solution:\n",
      "[0 1 1 0 0 0 0 0 1 0 0 0 0 1 1 0 0 0 0 0]\n",
      "Best score:\n",
      "167\n",
      "----------------------------------------\n",
      "----------------------------------------\n",
      "Best solution:\n",
      "[0 1 1 0 0 0 0 0 1 0 0 0 0 1 1 0 0 0 0 0]\n",
      "Best score:\n",
      "167\n",
      "----------------------------------------\n",
      "----------------------------------------\n",
      "Best solution:\n",
      "[0 1 1 0 0 0 0 0 1 0 0 0 0 1 1 0 0 0 0 0]\n",
      "Best score:\n",
      "167\n",
      "----------------------------------------\n",
      "----------------------------------------\n",
      "Best solution:\n",
      "[0 1 1 0 0 0 0 0 1 0 0 0 0 1 1 0 0 0 0 0]\n",
      "Best score:\n",
      "167\n",
      "----------------------------------------\n",
      "----------------------------------------\n",
      "Best solution:\n",
      "[0 1 1 0 0 0 0 0 1 0 0 0 0 1 1 0 0 0 0 0]\n",
      "Best score:\n",
      "167\n",
      "----------------------------------------\n"
     ]
    }
   ],
   "source": [
    "best_solution, best_score, historical_best_score = evolution(0.1)"
   ]
  },
  {
   "cell_type": "code",
   "execution_count": 98,
   "id": "903270d1",
   "metadata": {},
   "outputs": [
    {
     "data": {
      "text/plain": [
       "(array([0, 1, 1, 0, 0, 0, 0, 0, 1, 0, 0, 0, 0, 1, 1, 0, 0, 0, 0, 0]), 167, 100)"
      ]
     },
     "execution_count": 98,
     "metadata": {},
     "output_type": "execute_result"
    }
   ],
   "source": [
    "best_solution, best_score, len(historical_best_score)"
   ]
  },
  {
   "cell_type": "markdown",
   "id": "ef6b60ca",
   "metadata": {},
   "source": [
    "## Visualization"
   ]
  },
  {
   "cell_type": "markdown",
   "id": "d4749c7b",
   "metadata": {},
   "source": [
    "Finally the performance of the algorithm is validated drawing a chart showing the evolution of the best solution's fitness."
   ]
  },
  {
   "cell_type": "code",
   "execution_count": 97,
   "id": "42e8eaf3",
   "metadata": {},
   "outputs": [
    {
     "data": {
      "image/png": "[encoded data removed]",
      "text/plain": [
       "<Figure size 640x480 with 1 Axes>"
      ]
     },
     "metadata": {},
     "output_type": "display_data"
    }
   ],
   "source": [
    "x = range(1,len(historical_best_score)+1)\n",
    "y = historical_best_score\n",
    "\n",
    "# plot\n",
    "fig, ax = plt.subplots()\n",
    "\n",
    "ax.plot(x, y, linewidth=2.0)\n",
    "ax.set_xlabel('Iteration')\n",
    "ax.set_ylabel('Best score')\n",
    "ax.set_title(\"Performance\")\n",
    "\n",
    "plt.show()"
   ]
  },
  {
   "cell_type": "code",
   "execution_count": null,
   "id": "a91afb47",
   "metadata": {},
   "outputs": [],
   "source": []
  }
 ],
 "metadata": {
  "kernelspec": {
   "display_name": "Python 3 (ipykernel)",
   "language": "python",
   "name": "python3"
  },
  "language_info": {
   "codemirror_mode": {
    "name": "ipython",
    "version": 3
   },
   "file_extension": ".py",
   "mimetype": "text/x-python",
   "name": "python",
   "nbconvert_exporter": "python",
   "pygments_lexer": "ipython3",
   "version": "3.11.4"
  }
 },
 "nbformat": 4,
 "nbformat_minor": 5
}

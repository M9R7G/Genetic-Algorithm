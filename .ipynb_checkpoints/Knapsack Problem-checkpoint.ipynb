{
 "cells": [
  {
   "cell_type": "markdown",
   "id": "8ffb1ec2",
   "metadata": {},
   "source": [
    "## Description"
   ]
  },
  {
   "cell_type": "markdown",
   "id": "7f4a35c3",
   "metadata": {},
   "source": [
    "In this notebook genetic algorithms are used in orer to resolve the Knapsack problem. Say, we have a knapsack that can hold 15kg of weight at max. We have 4 items A, B, C, and D; having weights of 7kg, 2kg, 1kg, and 9kg; and value 5, 4, 7, and 2 respectively."
   ]
  },
  {
   "cell_type": "markdown",
   "id": "a8f8d7c0",
   "metadata": {},
   "source": [
    "The goal of the problem is to maximize the value of the knapsack, while meeting the max weight restriction."
   ]
  },
  {
   "cell_type": "code",
   "execution_count": 19,
   "id": "97bf7b9d",
   "metadata": {},
   "outputs": [],
   "source": [
    "import random"
   ]
  },
  {
   "cell_type": "markdown",
   "id": "abd56696",
   "metadata": {},
   "source": [
    "## Initialization"
   ]
  },
  {
   "cell_type": "code",
   "execution_count": 11,
   "id": "1fffc819",
   "metadata": {},
   "outputs": [],
   "source": [
    "max_weigth = 15\n",
    "weigths = [7,2,1,9]\n",
    "values = [5,4,7,2]"
   ]
  },
  {
   "cell_type": "code",
   "execution_count": 20,
   "id": "758cde07",
   "metadata": {},
   "outputs": [],
   "source": [
    "def RandomInitialization():\n",
    "    \n",
    "    max_weight = int(input('Enter max weight:'))\n",
    "    item_number = int(input('Enter number of items:'))\n",
    "    \n",
    "    weights = [random.randint(1,10) for i in range(item_number)]\n",
    "    values = [random.randint(1,10) for i in range(item_number)]\n",
    "    \n",
    "    print(f\"Max weight: {max_weight}\")\n",
    "    print(f\"Weights: {weights}\")\n",
    "    print(f\"Values: {values}\")\n",
    "    return weights, values, max_weight\n",
    "\n",
    "def UserRandomInitialization():\n",
    "    \n",
    "    max_weight = int(input('Enter max weight:'))\n",
    "    item_number = int(input('Enter number of items:'))\n",
    "    max_weight_gap = int(input('Enter max gap of items weights:'))\n",
    "    min_weight_gap = int(input('Enter min gap of items weights:'))\n",
    "    max_value_gap = int(input('Enter max gap of items values:'))\n",
    "    min_value_gap = int(input('Enter min gap of items values:'))\n",
    "    \n",
    "    weights = [random.randint(min_weight_gap,max_weight_gap) for i in range(item_number)]\n",
    "    values = [random.randint(min_value_gap,max_value_gap) for i in range(item_number)]\n",
    "    \n",
    "    print(f\"Max weight: {max_weight}\")\n",
    "    print(f\"Weights: {weights}\")\n",
    "    print(f\"Values: {values}\")\n",
    "    return weights, values, max_weight\n",
    "\n",
    "def UserInitialization():\n",
    "    max_weight = int(input('Enter max weight:'))\n",
    "    item_number = int(input('Enter number of items:'))\n",
    "    \n",
    "    weights = []\n",
    "    values = []\n",
    "    \n",
    "    for i in range(item_number):\n",
    "        \n",
    "        print(f\"Item {i+1}:\")\n",
    "        weight = int(input(\"Enter item weigth:\"))\n",
    "        value = int(input(\"Enter item value:\"))\n",
    "        \n",
    "        weights.append(weight)\n",
    "        values.append(value)\n",
    "    \n",
    "    print(f\"Max weight: {max_weight}\")\n",
    "    print(f\"Weights: {weights}\")\n",
    "    print(f\"Values: {values}\")\n",
    "    return weights, values, max_weight\n",
    "        "
   ]
  },
  {
   "cell_type": "code",
   "execution_count": 25,
   "id": "9333d633",
   "metadata": {},
   "outputs": [
    {
     "name": "stdout",
     "output_type": "stream",
     "text": [
      "Enter max weight:15\n",
      "Enter number of items:5\n",
      "Max weight: 15\n",
      "Weights: [10, 3, 6, 1, 1]\n",
      "Values: [3, 1, 4, 9, 10]\n"
     ]
    }
   ],
   "source": [
    "max_weigth,weigths,values = RandomInitialization()"
   ]
  },
  {
   "cell_type": "code",
   "execution_count": 23,
   "id": "c381784c",
   "metadata": {},
   "outputs": [
    {
     "name": "stdout",
     "output_type": "stream",
     "text": [
      "Enter max weight:15\n",
      "Enter number of items:5\n",
      "Enter max gap of items weights:12\n",
      "Enter min gap of items weights:3\n",
      "Enter max gap of items values:12\n",
      "Enter min gap of items values:4\n",
      "Max weight: 15\n",
      "Weights: [10, 4, 6, 7, 5]\n",
      "Values: [12, 8, 9, 12, 8]\n"
     ]
    }
   ],
   "source": [
    "max_weigth,weigths,values = UserRandomInitialization()"
   ]
  },
  {
   "cell_type": "code",
   "execution_count": 24,
   "id": "2b6e87f3",
   "metadata": {},
   "outputs": [
    {
     "name": "stdout",
     "output_type": "stream",
     "text": [
      "Enter max weight:15\n",
      "Enter number of items:4\n",
      "Item 1:\n",
      "Enter item weigth:4\n",
      "Enter item value:6\n",
      "Item 2:\n",
      "Enter item weigth:7\n",
      "Enter item value:5\n",
      "Item 3:\n",
      "Enter item weigth:8\n",
      "Enter item value:10\n",
      "Item 4:\n",
      "Enter item weigth:2\n",
      "Enter item value:3\n",
      "Max weight: 15\n",
      "Weights: [4, 7, 8, 2]\n",
      "Values: [6, 5, 10, 3]\n"
     ]
    }
   ],
   "source": [
    "max_weigth,weigths,values = UserInitialization()"
   ]
  },
  {
   "cell_type": "markdown",
   "id": "057ea45a",
   "metadata": {},
   "source": [
    "## Individual representation"
   ]
  },
  {
   "cell_type": "markdown",
   "id": "fc669b28",
   "metadata": {},
   "source": [
    "An Individual in the Genetic Algorithm is a potential solution. For our knapsack problem, the representation is pretty simple and straightforward; every individual is an n-bit string where each bit correspond to an item from the n items we have. If the item value is 1 then it is picked, otherwise isn't picked. Eg: [0,1,0,1]"
   ]
  },
  {
   "cell_type": "code",
   "execution_count": 15,
   "id": "3eab9dcd",
   "metadata": {},
   "outputs": [],
   "source": [
    "def GenerateInitialPopulation(items_number):\n",
    "    size = int(input(\"Enter population size:\"))\n",
    "    return [[random.choice([0,1]) for i in range(items_number)] for j in range(size)]\n",
    "    "
   ]
  },
  {
   "cell_type": "code",
   "execution_count": 26,
   "id": "6a02dbb3",
   "metadata": {},
   "outputs": [
    {
     "name": "stdout",
     "output_type": "stream",
     "text": [
      "Enter population size:6\n"
     ]
    },
    {
     "data": {
      "text/plain": [
       "[[0, 1, 0, 0],\n",
       " [1, 1, 0, 1],\n",
       " [0, 1, 1, 1],\n",
       " [1, 1, 0, 0],\n",
       " [0, 1, 1, 1],\n",
       " [0, 0, 1, 0]]"
      ]
     },
     "execution_count": 26,
     "metadata": {},
     "output_type": "execute_result"
    }
   ],
   "source": [
    "GenerateInitialPopulation(4)"
   ]
  },
  {
   "cell_type": "markdown",
   "id": "ea12217f",
   "metadata": {},
   "source": [
    "## Fitness Coefficient"
   ]
  },
  {
   "cell_type": "markdown",
   "id": "8a765bda",
   "metadata": {},
   "source": [
    "Now that the population representation is defined, we need to evaluate how well each individual fits to the problem. For the Knapsack problem the fitness of a individual is measured by it's items values sum as long as the weight restriction is meet. "
   ]
  },
  {
   "cell_type": "code",
   "execution_count": null,
   "id": "e5acd313",
   "metadata": {},
   "outputs": [],
   "source": [
    "def fitness"
   ]
  }
 ],
 "metadata": {
  "kernelspec": {
   "display_name": "Python 3 (ipykernel)",
   "language": "python",
   "name": "python3"
  },
  "language_info": {
   "codemirror_mode": {
    "name": "ipython",
    "version": 3
   },
   "file_extension": ".py",
   "mimetype": "text/x-python",
   "name": "python",
   "nbconvert_exporter": "python",
   "pygments_lexer": "ipython3",
   "version": "3.11.4"
  }
 },
 "nbformat": 4,
 "nbformat_minor": 5
}
